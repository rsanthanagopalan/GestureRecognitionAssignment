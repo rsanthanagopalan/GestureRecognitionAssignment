{
  "cells": [
    {
      "cell_type": "markdown",
      "metadata": {
        "id": "SpVH39IZX_lX"
      },
      "source": [
        "# Gesture Recognition\n",
        "In this group project, you are going to build a 3D Conv model that will be able to predict the 5 gestures correctly. Please import the following libraries to get started."
      ]
    },
    {
      "cell_type": "code",
      "source": [
        "pip install scipy==1.2"
      ],
      "metadata": {
        "colab": {
          "base_uri": "https://localhost:8080/"
        },
        "id": "rTI-mH3VYXRr",
        "outputId": "79b576cb-634e-417b-f1d3-68018a9f626e"
      },
      "execution_count": 1,
      "outputs": [
        {
          "output_type": "stream",
          "name": "stdout",
          "text": [
            "Looking in indexes: https://pypi.org/simple, https://us-python.pkg.dev/colab-wheels/public/simple/\n",
            "Requirement already satisfied: scipy==1.2 in /usr/local/lib/python3.7/dist-packages (1.2.0)\n",
            "Requirement already satisfied: numpy>=1.8.2 in /usr/local/lib/python3.7/dist-packages (from scipy==1.2) (1.21.6)\n"
          ]
        }
      ]
    },
    {
      "cell_type": "code",
      "execution_count": 2,
      "metadata": {
        "id": "ki4MSNEUX_lZ"
      },
      "outputs": [],
      "source": [
        "import numpy as np\n",
        "import pandas as pd\n",
        "import pathlib\n",
        "import os\n",
        "import scipy\n",
        "from scipy.misc import imread, imresize\n",
        "import datetime\n",
        "import os"
      ]
    },
    {
      "cell_type": "markdown",
      "metadata": {
        "id": "Zhh29MsxX_la"
      },
      "source": [
        "We set the random seed so that the results don't vary drastically."
      ]
    },
    {
      "cell_type": "code",
      "execution_count": 4,
      "metadata": {
        "id": "MZvpBg3zX_la"
      },
      "outputs": [],
      "source": [
        "np.random.seed(30)\n",
        "import random as rn\n",
        "rn.seed(30)\n",
        "from keras import backend as K\n",
        "import tensorflow as tf\n",
        "#tf.set_random_seed(30)\n",
        "tf.random.set_seed(30)"
      ]
    },
    {
      "cell_type": "code",
      "source": [
        "from google.colab import drive\n",
        "drive.mount('/content/drive',force_remount=True)"
      ],
      "metadata": {
        "colab": {
          "base_uri": "https://localhost:8080/"
        },
        "id": "vvJ1JeWQoHUk",
        "outputId": "03cbbb30-e641-409e-cf30-50beded70fc7"
      },
      "execution_count": 5,
      "outputs": [
        {
          "output_type": "stream",
          "name": "stdout",
          "text": [
            "Mounted at /content/drive\n"
          ]
        }
      ]
    },
    {
      "cell_type": "code",
      "source": [
        "%cd /content/drive/My Drive/Colab Notebooks/Project_data"
      ],
      "metadata": {
        "colab": {
          "base_uri": "https://localhost:8080/"
        },
        "id": "DQAyYJ0lxd_-",
        "outputId": "36336b1e-d655-4673-bf82-b1435427aa06"
      },
      "execution_count": 6,
      "outputs": [
        {
          "output_type": "stream",
          "name": "stdout",
          "text": [
            "/content/drive/My Drive/Colab Notebooks/Project_data\n"
          ]
        }
      ]
    },
    {
      "cell_type": "code",
      "source": [
        "df = pd.read_csv(\"train.csv\")\n",
        "df.head()"
      ],
      "metadata": {
        "colab": {
          "base_uri": "https://localhost:8080/",
          "height": 206
        },
        "id": "t8iXMqq2xpII",
        "outputId": "60bdb0d7-32ce-4fb3-9c69-cd946b754573"
      },
      "execution_count": 7,
      "outputs": [
        {
          "output_type": "execute_result",
          "data": {
            "text/plain": [
              "  WIN_20180925_17_08_43_Pro_Left_Swipe_new;Left_Swipe_new;0\n",
              "0  WIN_20180925_17_18_28_Pro_Left_Swipe_new;Left_...       \n",
              "1  WIN_20180925_17_18_56_Pro_Left_Swipe_new;Left_...       \n",
              "2  WIN_20180925_17_19_51_Pro_Left_Swipe_new;Left_...       \n",
              "3  WIN_20180925_17_20_14_Pro_Left_Swipe_new;Left_...       \n",
              "4  WIN_20180925_17_21_28_Pro_Left_Swipe_new;Left_...       "
            ],
            "text/html": [
              "\n",
              "  <div id=\"df-19d867c4-9529-459c-bb6e-4e02f61a6583\">\n",
              "    <div class=\"colab-df-container\">\n",
              "      <div>\n",
              "<style scoped>\n",
              "    .dataframe tbody tr th:only-of-type {\n",
              "        vertical-align: middle;\n",
              "    }\n",
              "\n",
              "    .dataframe tbody tr th {\n",
              "        vertical-align: top;\n",
              "    }\n",
              "\n",
              "    .dataframe thead th {\n",
              "        text-align: right;\n",
              "    }\n",
              "</style>\n",
              "<table border=\"1\" class=\"dataframe\">\n",
              "  <thead>\n",
              "    <tr style=\"text-align: right;\">\n",
              "      <th></th>\n",
              "      <th>WIN_20180925_17_08_43_Pro_Left_Swipe_new;Left_Swipe_new;0</th>\n",
              "    </tr>\n",
              "  </thead>\n",
              "  <tbody>\n",
              "    <tr>\n",
              "      <th>0</th>\n",
              "      <td>WIN_20180925_17_18_28_Pro_Left_Swipe_new;Left_...</td>\n",
              "    </tr>\n",
              "    <tr>\n",
              "      <th>1</th>\n",
              "      <td>WIN_20180925_17_18_56_Pro_Left_Swipe_new;Left_...</td>\n",
              "    </tr>\n",
              "    <tr>\n",
              "      <th>2</th>\n",
              "      <td>WIN_20180925_17_19_51_Pro_Left_Swipe_new;Left_...</td>\n",
              "    </tr>\n",
              "    <tr>\n",
              "      <th>3</th>\n",
              "      <td>WIN_20180925_17_20_14_Pro_Left_Swipe_new;Left_...</td>\n",
              "    </tr>\n",
              "    <tr>\n",
              "      <th>4</th>\n",
              "      <td>WIN_20180925_17_21_28_Pro_Left_Swipe_new;Left_...</td>\n",
              "    </tr>\n",
              "  </tbody>\n",
              "</table>\n",
              "</div>\n",
              "      <button class=\"colab-df-convert\" onclick=\"convertToInteractive('df-19d867c4-9529-459c-bb6e-4e02f61a6583')\"\n",
              "              title=\"Convert this dataframe to an interactive table.\"\n",
              "              style=\"display:none;\">\n",
              "        \n",
              "  <svg xmlns=\"http://www.w3.org/2000/svg\" height=\"24px\"viewBox=\"0 0 24 24\"\n",
              "       width=\"24px\">\n",
              "    <path d=\"M0 0h24v24H0V0z\" fill=\"none\"/>\n",
              "    <path d=\"M18.56 5.44l.94 2.06.94-2.06 2.06-.94-2.06-.94-.94-2.06-.94 2.06-2.06.94zm-11 1L8.5 8.5l.94-2.06 2.06-.94-2.06-.94L8.5 2.5l-.94 2.06-2.06.94zm10 10l.94 2.06.94-2.06 2.06-.94-2.06-.94-.94-2.06-.94 2.06-2.06.94z\"/><path d=\"M17.41 7.96l-1.37-1.37c-.4-.4-.92-.59-1.43-.59-.52 0-1.04.2-1.43.59L10.3 9.45l-7.72 7.72c-.78.78-.78 2.05 0 2.83L4 21.41c.39.39.9.59 1.41.59.51 0 1.02-.2 1.41-.59l7.78-7.78 2.81-2.81c.8-.78.8-2.07 0-2.86zM5.41 20L4 18.59l7.72-7.72 1.47 1.35L5.41 20z\"/>\n",
              "  </svg>\n",
              "      </button>\n",
              "      \n",
              "  <style>\n",
              "    .colab-df-container {\n",
              "      display:flex;\n",
              "      flex-wrap:wrap;\n",
              "      gap: 12px;\n",
              "    }\n",
              "\n",
              "    .colab-df-convert {\n",
              "      background-color: #E8F0FE;\n",
              "      border: none;\n",
              "      border-radius: 50%;\n",
              "      cursor: pointer;\n",
              "      display: none;\n",
              "      fill: #1967D2;\n",
              "      height: 32px;\n",
              "      padding: 0 0 0 0;\n",
              "      width: 32px;\n",
              "    }\n",
              "\n",
              "    .colab-df-convert:hover {\n",
              "      background-color: #E2EBFA;\n",
              "      box-shadow: 0px 1px 2px rgba(60, 64, 67, 0.3), 0px 1px 3px 1px rgba(60, 64, 67, 0.15);\n",
              "      fill: #174EA6;\n",
              "    }\n",
              "\n",
              "    [theme=dark] .colab-df-convert {\n",
              "      background-color: #3B4455;\n",
              "      fill: #D2E3FC;\n",
              "    }\n",
              "\n",
              "    [theme=dark] .colab-df-convert:hover {\n",
              "      background-color: #434B5C;\n",
              "      box-shadow: 0px 1px 3px 1px rgba(0, 0, 0, 0.15);\n",
              "      filter: drop-shadow(0px 1px 2px rgba(0, 0, 0, 0.3));\n",
              "      fill: #FFFFFF;\n",
              "    }\n",
              "  </style>\n",
              "\n",
              "      <script>\n",
              "        const buttonEl =\n",
              "          document.querySelector('#df-19d867c4-9529-459c-bb6e-4e02f61a6583 button.colab-df-convert');\n",
              "        buttonEl.style.display =\n",
              "          google.colab.kernel.accessAllowed ? 'block' : 'none';\n",
              "\n",
              "        async function convertToInteractive(key) {\n",
              "          const element = document.querySelector('#df-19d867c4-9529-459c-bb6e-4e02f61a6583');\n",
              "          const dataTable =\n",
              "            await google.colab.kernel.invokeFunction('convertToInteractive',\n",
              "                                                     [key], {});\n",
              "          if (!dataTable) return;\n",
              "\n",
              "          const docLinkHtml = 'Like what you see? Visit the ' +\n",
              "            '<a target=\"_blank\" href=https://colab.research.google.com/notebooks/data_table.ipynb>data table notebook</a>'\n",
              "            + ' to learn more about interactive tables.';\n",
              "          element.innerHTML = '';\n",
              "          dataTable['output_type'] = 'display_data';\n",
              "          await google.colab.output.renderOutput(dataTable, element);\n",
              "          const docLink = document.createElement('div');\n",
              "          docLink.innerHTML = docLinkHtml;\n",
              "          element.appendChild(docLink);\n",
              "        }\n",
              "      </script>\n",
              "    </div>\n",
              "  </div>\n",
              "  "
            ]
          },
          "metadata": {},
          "execution_count": 7
        }
      ]
    },
    {
      "cell_type": "code",
      "source": [
        "#root_path = 'gdrive/My Drive/Colab Notebooks/Project_data'\n",
        "#list(pathlib.Path(root_path))"
      ],
      "metadata": {
        "id": "rOlO7_0loej7"
      },
      "execution_count": 8,
      "outputs": []
    },
    {
      "cell_type": "code",
      "source": [
        "train_file = '/content/drive/My Drive/Colab Notebooks/Project_data/train.csv'\n",
        "val_file = '/content/drive/My Drive/Colab Notebooks/Project_data/val.csv'"
      ],
      "metadata": {
        "id": "QSI_MEGDyDuP"
      },
      "execution_count": 9,
      "outputs": []
    },
    {
      "cell_type": "markdown",
      "metadata": {
        "id": "VNdo9seqX_lb"
      },
      "source": [
        "In this block, you read the folder names for training and validation. You also set the `batch_size` here. Note that you set the batch size in such a way that you are able to use the GPU in full capacity. You keep increasing the batch size until the machine throws an error."
      ]
    },
    {
      "cell_type": "code",
      "execution_count": 10,
      "metadata": {
        "id": "cxwAYrjuX_lb"
      },
      "outputs": [],
      "source": [
        "train_doc = np.random.permutation(open(train_file).readlines())\n",
        "val_doc = np.random.permutation(open(val_file).readlines())\n",
        "batch_size = 40 #experiment with the batch size"
      ]
    },
    {
      "cell_type": "markdown",
      "metadata": {
        "id": "A0c_64IJX_lb"
      },
      "source": [
        "## Generator\n",
        "This is one of the most important part of the code. The overall structure of the generator has been given. In the generator, you are going to preprocess the images as you have images of 2 different dimensions as well as create a batch of video frames. You have to experiment with `img_idx`, `y`,`z` and normalization such that you get high accuracy."
      ]
    },
    {
      "cell_type": "code",
      "execution_count": 11,
      "metadata": {
        "id": "xTVcdPe-X_lb"
      },
      "outputs": [],
      "source": [
        "#set the no of frames\n",
        "x = 30\n",
        "#set width of image\n",
        "y = 120\n",
        "#set height of image\n",
        "z = 120\n",
        "def generator(source_path, folder_list, batch_size):\n",
        "    print( 'Source path = ', source_path, '; batch size =', batch_size)\n",
        "    img_idx = [x for x in range(0,x)] #create a list of image numbers you want to use for a particular video\n",
        "    while True:\n",
        "        t = np.random.permutation(folder_list)\n",
        "        num_batches = len(folder_list)//batch_size # calculate the number of batches\n",
        "        for batch in range(num_batches): # we iterate over the number of batches\n",
        "            batch_data = np.zeros((batch_size,x,y,z,3)) # x is the number of images you use for each video, (y,z) is the final size of the input images and 3 is the number of channels RGB\n",
        "            batch_labels = np.zeros((batch_size,5)) # batch_labels is the one hot representation of the output\n",
        "            for folder in range(batch_size): # iterate over the batch_size\n",
        "                imgs = os.listdir(source_path+'/'+ t[folder + (batch*batch_size)].split(';')[0]) # read all the images in the folder\n",
        "                for idx,item in enumerate(img_idx): #  Iterate iver the frames/images of a folder to read them in\n",
        "                    image = imread(source_path+'/'+ t[folder + (batch*batch_size)].strip().split(';')[0]+'/'+imgs[item]).astype(np.float32)\n",
        "                    \n",
        "                    #crop the images and resize them. Note that the images are of 2 different shape \n",
        "                    #and the conv3D will throw error if the inputs in a batch have different shapes\n",
        "                    \n",
        "                    tmp_image = imresize(image,(y,z))\n",
        "                    tmp_image = tmp_image/127.5-1\n",
        "\n",
        "                    batch_data[folder,idx,:,:,0] = (tmp_image[:,:,0]) #normalise and feed in the image\n",
        "                    batch_data[folder,idx,:,:,1] = (tmp_image[:,:,1]) #normalise and feed in the image\n",
        "                    batch_data[folder,idx,:,:,2] = (tmp_image[:,:,2]) #normalise and feed in the image\n",
        "                    \n",
        "                batch_labels[folder, int(t[folder + (batch*batch_size)].strip().split(';')[2])] = 1\n",
        "            yield batch_data, batch_labels #you yield the batch_data and the batch_labels, remember what does yield do\n",
        "\n",
        "        \n",
        "        # write the code for the remaining data points which are left after full batches\n",
        "        if (len(folder_list) != batch_size*num_batches):\n",
        "            print(\"Batches: \",num_batches+1,\"Index:\", batch_size)\n",
        "            batch_size = len(folder_list) - (batch_size*num_batches)\n",
        "            batch_data = np.zeros((batch_size,x,y,z,3))  \n",
        "            batch_labels = np.zeros((batch_size,5))  \n",
        "            for folder in range(batch_size): # iterate over the batch_size\n",
        "                imgs = os.listdir(source_path+'/'+ t[folder + (batch*batch_size)].split(';')[0]) # read all the images in the folder\n",
        "                for idx,item in enumerate(img_idx): #  Iterate over the frames/images\n",
        "                    image = imread(source_path+'/'+ t[folder + (batch*batch_size)].strip().split(';')[0]+'/'+imgs[item]).astype(np.float32)\n",
        "                                        \n",
        "                    tmp_image = imresize(image,(y,z))\n",
        "                    tmp_image = tmp_image/127.5-1  \n",
        "                    \n",
        "                    batch_data[folder,idx,:,:,0] = (tmp_image[:,:,0])\n",
        "                    batch_data[folder,idx,:,:,1] = (tmp_image[:,:,1])\n",
        "                    batch_data[folder,idx,:,:,2] = (tmp_image[:,:,2])\n",
        "                   \n",
        "                batch_labels[folder, int(t[folder + (batch*batch_size)].strip().split(';')[2])] = 1\n",
        "            yield batch_data, batch_labels   "
      ]
    },
    {
      "cell_type": "markdown",
      "metadata": {
        "id": "X7zMK0d0X_lc"
      },
      "source": [
        "Note here that a video is represented above in the generator as (number of images, height, width, number of channels). Take this into consideration while creating the model architecture."
      ]
    },
    {
      "cell_type": "code",
      "execution_count": 11,
      "metadata": {
        "colab": {
          "base_uri": "https://localhost:8080/"
        },
        "id": "uQM_0pORX_lc",
        "outputId": "a2fbe825-965a-48bb-a9a2-5d069cc09adc"
      },
      "outputs": [
        {
          "output_type": "stream",
          "name": "stdout",
          "text": [
            "# training sequences = 663\n",
            "# validation sequences = 100\n",
            "# epochs = 15\n"
          ]
        }
      ],
      "source": [
        "curr_dt_time = datetime.datetime.now()\n",
        "train_path = '/content/drive/My Drive/Colab Notebooks/Project_data/train'\n",
        "val_path = '/content/drive/My Drive/Colab Notebooks/Project_data/val'\n",
        "num_train_sequences = len(train_doc)\n",
        "print('# training sequences =', num_train_sequences)\n",
        "num_val_sequences = len(val_doc)\n",
        "print('# validation sequences =', num_val_sequences)\n",
        "num_epochs = 15 # choose the number of epochs\n",
        "print ('# epochs =', num_epochs)"
      ]
    },
    {
      "cell_type": "markdown",
      "metadata": {
        "id": "ejXdo5u9X_lc"
      },
      "source": [
        "## Model\n",
        "Here you make the model using different functionalities that Keras provides. Remember to use `Conv3D` and `MaxPooling3D` and not `Conv2D` and `Maxpooling2D` for a 3D convolution model. You would want to use `TimeDistributed` while building a Conv2D + RNN model. Also remember that the last layer is the softmax. Design the network in such a way that the model is able to give good accuracy on the least number of parameters so that it can fit in the memory of the webcam."
      ]
    },
    {
      "cell_type": "code",
      "execution_count": 13,
      "metadata": {
        "id": "t0cxidRdX_ld"
      },
      "outputs": [],
      "source": [
        "from keras.models import Sequential, Model\n",
        "from keras.layers import Dense, GRU, Flatten, TimeDistributed, Flatten, BatchNormalization, Activation, Dropout\n",
        "from keras.layers.convolutional import Conv3D, MaxPooling3D\n",
        "from keras.callbacks import ModelCheckpoint, ReduceLROnPlateau\n",
        "from keras import optimizers\n",
        "\n",
        "#write your model here\n",
        "model = Sequential()       \n",
        "model.add(Conv3D(8,kernel_size=(3,3,3),input_shape=(30, 120, 120, 3),padding='same'))\n",
        "model.add(BatchNormalization())\n",
        "model.add(Activation('relu'))\n",
        "\n",
        "model.add(Conv3D(16, (3, 3, 3), padding='same'))\n",
        "model.add(Activation('relu'))\n",
        "model.add(BatchNormalization())\n",
        "model.add(MaxPooling3D(pool_size=(2, 2, 2)))\n",
        "\n",
        "model.add(Conv3D(32, (2, 2, 2), padding='same'))\n",
        "model.add(Activation('relu'))\n",
        "model.add(BatchNormalization())\n",
        "model.add(MaxPooling3D(pool_size=(2, 2, 2)))\n",
        "\n",
        "model.add(Conv3D(64, (2, 2, 2), padding='same'))\n",
        "model.add(Activation('relu'))\n",
        "model.add(BatchNormalization())\n",
        "model.add(MaxPooling3D(pool_size=(2, 2, 2)))\n",
        "\n",
        "model.add(Conv3D(128, (2, 2, 2), padding='same'))\n",
        "model.add(Activation('relu'))\n",
        "model.add(BatchNormalization())\n",
        "model.add(MaxPooling3D(pool_size=(2, 2, 2)))      \n",
        "\n",
        "# Flatten layer \n",
        "model.add(Flatten())\n",
        "\n",
        "model.add(Dense(1000, activation='relu'))\n",
        "model.add(Dropout(0.5))\n",
        "\n",
        "model.add(Dense(500, activation='relu'))\n",
        "model.add(Dropout(0.5))\n",
        "\n",
        "#Softmax layer\n",
        "model.add(Dense(5, activation='softmax'))"
      ]
    },
    {
      "cell_type": "markdown",
      "metadata": {
        "id": "Mmh-rYqtX_ld"
      },
      "source": [
        "Now that you have written the model, the next step is to `compile` the model. When you print the `summary` of the model, you'll see the total number of parameters you have to train."
      ]
    },
    {
      "cell_type": "code",
      "execution_count": 14,
      "metadata": {
        "scrolled": true,
        "colab": {
          "base_uri": "https://localhost:8080/"
        },
        "id": "FqjHkMquX_ld",
        "outputId": "2fd4125b-9908-49c5-ac4c-a399c61b2a86"
      },
      "outputs": [
        {
          "output_type": "stream",
          "name": "stdout",
          "text": [
            "Model: \"sequential\"\n",
            "_________________________________________________________________\n",
            " Layer (type)                Output Shape              Param #   \n",
            "=================================================================\n",
            " conv3d (Conv3D)             (None, 30, 120, 120, 8)   656       \n",
            "                                                                 \n",
            " batch_normalization (BatchN  (None, 30, 120, 120, 8)  32        \n",
            " ormalization)                                                   \n",
            "                                                                 \n",
            " activation (Activation)     (None, 30, 120, 120, 8)   0         \n",
            "                                                                 \n",
            " conv3d_1 (Conv3D)           (None, 30, 120, 120, 16)  3472      \n",
            "                                                                 \n",
            " activation_1 (Activation)   (None, 30, 120, 120, 16)  0         \n",
            "                                                                 \n",
            " batch_normalization_1 (Batc  (None, 30, 120, 120, 16)  64       \n",
            " hNormalization)                                                 \n",
            "                                                                 \n",
            " max_pooling3d (MaxPooling3D  (None, 15, 60, 60, 16)   0         \n",
            " )                                                               \n",
            "                                                                 \n",
            " conv3d_2 (Conv3D)           (None, 15, 60, 60, 32)    4128      \n",
            "                                                                 \n",
            " activation_2 (Activation)   (None, 15, 60, 60, 32)    0         \n",
            "                                                                 \n",
            " batch_normalization_2 (Batc  (None, 15, 60, 60, 32)   128       \n",
            " hNormalization)                                                 \n",
            "                                                                 \n",
            " max_pooling3d_1 (MaxPooling  (None, 7, 30, 30, 32)    0         \n",
            " 3D)                                                             \n",
            "                                                                 \n",
            " conv3d_3 (Conv3D)           (None, 7, 30, 30, 64)     16448     \n",
            "                                                                 \n",
            " activation_3 (Activation)   (None, 7, 30, 30, 64)     0         \n",
            "                                                                 \n",
            " batch_normalization_3 (Batc  (None, 7, 30, 30, 64)    256       \n",
            " hNormalization)                                                 \n",
            "                                                                 \n",
            " max_pooling3d_2 (MaxPooling  (None, 3, 15, 15, 64)    0         \n",
            " 3D)                                                             \n",
            "                                                                 \n",
            " conv3d_4 (Conv3D)           (None, 3, 15, 15, 128)    65664     \n",
            "                                                                 \n",
            " activation_4 (Activation)   (None, 3, 15, 15, 128)    0         \n",
            "                                                                 \n",
            " batch_normalization_4 (Batc  (None, 3, 15, 15, 128)   512       \n",
            " hNormalization)                                                 \n",
            "                                                                 \n",
            " max_pooling3d_3 (MaxPooling  (None, 1, 7, 7, 128)     0         \n",
            " 3D)                                                             \n",
            "                                                                 \n",
            " flatten (Flatten)           (None, 6272)              0         \n",
            "                                                                 \n",
            " dense (Dense)               (None, 1000)              6273000   \n",
            "                                                                 \n",
            " dropout (Dropout)           (None, 1000)              0         \n",
            "                                                                 \n",
            " dense_1 (Dense)             (None, 500)               500500    \n",
            "                                                                 \n",
            " dropout_1 (Dropout)         (None, 500)               0         \n",
            "                                                                 \n",
            " dense_2 (Dense)             (None, 5)                 2505      \n",
            "                                                                 \n",
            "=================================================================\n",
            "Total params: 6,867,365\n",
            "Trainable params: 6,866,869\n",
            "Non-trainable params: 496\n",
            "_________________________________________________________________\n",
            "None\n"
          ]
        }
      ],
      "source": [
        "optimiser = tf.keras.optimizers.Adam(learning_rate=0.001) #write your optimizer\n",
        "model.compile(optimizer=optimiser, loss='categorical_crossentropy', metrics=['categorical_accuracy'])\n",
        "print (model.summary())"
      ]
    },
    {
      "cell_type": "markdown",
      "metadata": {
        "id": "lX_rIS1-X_ld"
      },
      "source": [
        "Let us create the `train_generator` and the `val_generator` which will be used in `.fit_generator`."
      ]
    },
    {
      "cell_type": "code",
      "execution_count": 15,
      "metadata": {
        "id": "gQgJoGF3X_ld"
      },
      "outputs": [],
      "source": [
        "train_generator = generator(train_path, train_doc, batch_size)\n",
        "val_generator = generator(val_path, val_doc, batch_size)"
      ]
    },
    {
      "cell_type": "code",
      "execution_count": 19,
      "metadata": {
        "colab": {
          "base_uri": "https://localhost:8080/"
        },
        "id": "tJSWmZ3kX_ld",
        "outputId": "8a1c6765-d801-4187-8546-c928243e67c1"
      },
      "outputs": [
        {
          "output_type": "stream",
          "name": "stderr",
          "text": [
            "WARNING:tensorflow:`period` argument is deprecated. Please use `save_freq` to specify the frequency in number of batches seen.\n"
          ]
        }
      ],
      "source": [
        "model_name = 'model_init' + '_' + str(curr_dt_time).replace(' ','').replace(':','_') + '/'\n",
        "    \n",
        "if not os.path.exists(model_name):\n",
        "    os.mkdir(model_name)\n",
        "        \n",
        "filepath = model_name + 'model-{epoch:05d}-{loss:.5f}-{categorical_accuracy:.5f}-{val_loss:.5f}-{val_categorical_accuracy:.5f}.h5'\n",
        "\n",
        "checkpoint = ModelCheckpoint(filepath, monitor='val_loss', verbose=1, save_best_only=False, save_weights_only=False, mode='auto', period=1)\n",
        "\n",
        "LR = ReduceLROnPlateau(monitor='val_loss', factor=0.5, patience=2, cooldown=1, verbose=1) # write the REducelronplateau code here\n",
        "callbacks_list = [checkpoint, LR]"
      ]
    },
    {
      "cell_type": "markdown",
      "metadata": {
        "id": "g01DRmiRX_le"
      },
      "source": [
        "The `steps_per_epoch` and `validation_steps` are used by `fit_generator` to decide the number of next() calls it need to make."
      ]
    },
    {
      "cell_type": "code",
      "execution_count": 17,
      "metadata": {
        "id": "89f7BlcZX_le"
      },
      "outputs": [],
      "source": [
        "if (num_train_sequences%batch_size) == 0:\n",
        "    steps_per_epoch = int(num_train_sequences/batch_size)\n",
        "else:\n",
        "    steps_per_epoch = (num_train_sequences//batch_size) + 1\n",
        "\n",
        "if (num_val_sequences%batch_size) == 0:\n",
        "    validation_steps = int(num_val_sequences/batch_size)\n",
        "else:\n",
        "    validation_steps = (num_val_sequences//batch_size) + 1"
      ]
    },
    {
      "cell_type": "markdown",
      "metadata": {
        "id": "8N5wiEc4X_le"
      },
      "source": [
        "Let us now fit the model. This will start training the model and with the help of the checkpoints, you'll be able to save the model at the end of each epoch."
      ]
    },
    {
      "cell_type": "code",
      "execution_count": 18,
      "metadata": {
        "colab": {
          "base_uri": "https://localhost:8080/"
        },
        "id": "ejS8TaQ0X_le",
        "outputId": "d966fc5c-3b3d-42f7-9a84-3545c8af01a7"
      },
      "outputs": [
        {
          "output_type": "stream",
          "name": "stderr",
          "text": [
            "/usr/local/lib/python3.7/dist-packages/ipykernel_launcher.py:3: UserWarning: `Model.fit_generator` is deprecated and will be removed in a future version. Please use `Model.fit`, which supports generators.\n",
            "  This is separate from the ipykernel package so we can avoid doing imports until\n"
          ]
        },
        {
          "output_type": "stream",
          "name": "stdout",
          "text": [
            "Source path =  /content/drive/My Drive/Colab Notebooks/Project_data/train ; batch size = 40\n"
          ]
        },
        {
          "output_type": "stream",
          "name": "stderr",
          "text": [
            "/usr/local/lib/python3.7/dist-packages/ipykernel_launcher.py:19: DeprecationWarning:     `imread` is deprecated!\n",
            "    `imread` is deprecated in SciPy 1.0.0, and will be removed in 1.2.0.\n",
            "    Use ``imageio.imread`` instead.\n",
            "/usr/local/lib/python3.7/dist-packages/ipykernel_launcher.py:24: DeprecationWarning:     `imresize` is deprecated!\n",
            "    `imresize` is deprecated in SciPy 1.0.0, and will be removed in 1.3.0.\n",
            "    Use Pillow instead: ``numpy.array(Image.fromarray(arr).resize())``.\n"
          ]
        },
        {
          "output_type": "stream",
          "name": "stdout",
          "text": [
            "Epoch 1/15\n",
            "15/17 [=========================>....] - ETA: 8:34 - loss: 7.5521 - categorical_accuracy: 0.2983 Batches:  17 Index: 40\n"
          ]
        },
        {
          "output_type": "stream",
          "name": "stderr",
          "text": [
            "/usr/local/lib/python3.7/dist-packages/ipykernel_launcher.py:44: DeprecationWarning:     `imread` is deprecated!\n",
            "    `imread` is deprecated in SciPy 1.0.0, and will be removed in 1.2.0.\n",
            "    Use ``imageio.imread`` instead.\n",
            "/usr/local/lib/python3.7/dist-packages/ipykernel_launcher.py:46: DeprecationWarning:     `imresize` is deprecated!\n",
            "    `imresize` is deprecated in SciPy 1.0.0, and will be removed in 1.3.0.\n",
            "    Use Pillow instead: ``numpy.array(Image.fromarray(arr).resize())``.\n"
          ]
        },
        {
          "output_type": "stream",
          "name": "stdout",
          "text": [
            "17/17 [==============================] - ETA: 0s - loss: 7.1089 - categorical_accuracy: 0.3213  Source path =  /content/drive/My Drive/Colab Notebooks/Project_data/val ; batch size = 40\n",
            "Batches:  3 Index: 40\n",
            "\n",
            "Epoch 1: saving model to model_init_2022-09-1119_46_19.528232/model-00001-7.10890-0.32127-2.14893-0.18000.h5\n",
            "17/17 [==============================] - 4511s 281s/step - loss: 7.1089 - categorical_accuracy: 0.3213 - val_loss: 2.1489 - val_categorical_accuracy: 0.1800 - lr: 0.0010\n",
            "Epoch 2/15\n",
            "17/17 [==============================] - ETA: 0s - loss: 2.0730 - categorical_accuracy: 0.4322\n",
            "Epoch 2: saving model to model_init_2022-09-1119_46_19.528232/model-00002-2.07296-0.43223-1.39654-0.51667.h5\n",
            "17/17 [==============================] - 250s 16s/step - loss: 2.0730 - categorical_accuracy: 0.4322 - val_loss: 1.3965 - val_categorical_accuracy: 0.5167 - lr: 0.0010\n",
            "Epoch 3/15\n",
            "10/17 [================>.............] - ETA: 1:02 - loss: 1.5709 - categorical_accuracy: 0.5522Batches:  29 Index: 23\n",
            "17/17 [==============================] - ETA: 0s - loss: 1.6037 - categorical_accuracy: 0.5232\n",
            "Epoch 3: saving model to model_init_2022-09-1119_46_19.528232/model-00003-1.60367-0.52316-2.64506-0.25000.h5\n",
            "17/17 [==============================] - 123s 8s/step - loss: 1.6037 - categorical_accuracy: 0.5232 - val_loss: 2.6451 - val_categorical_accuracy: 0.2500 - lr: 0.0010\n",
            "Epoch 4/15\n",
            "17/17 [==============================] - ETA: 0s - loss: 1.4136 - categorical_accuracy: 0.5449\n",
            "Epoch 4: saving model to model_init_2022-09-1119_46_19.528232/model-00004-1.41362-0.54489-4.30810-0.20000.h5\n",
            "\n",
            "Epoch 4: ReduceLROnPlateau reducing learning rate to 0.0005000000237487257.\n",
            "17/17 [==============================] - 59s 4s/step - loss: 1.4136 - categorical_accuracy: 0.5449 - val_loss: 4.3081 - val_categorical_accuracy: 0.2000 - lr: 0.0010\n",
            "Epoch 5/15\n",
            "11/17 [==================>...........] - ETA: 17s - loss: 1.4259 - categorical_accuracy: 0.5455Batches:  35 Index: 19\n",
            "17/17 [==============================] - ETA: 0s - loss: 1.2942 - categorical_accuracy: 0.5847\n",
            "Epoch 5: saving model to model_init_2022-09-1119_46_19.528232/model-00005-1.29417-0.58466-4.58571-0.21667.h5\n",
            "17/17 [==============================] - 59s 4s/step - loss: 1.2942 - categorical_accuracy: 0.5847 - val_loss: 4.5857 - val_categorical_accuracy: 0.2167 - lr: 5.0000e-04\n",
            "Epoch 6/15\n",
            "17/17 [==============================] - ETA: 0s - loss: 0.9930 - categorical_accuracy: 0.6678\n",
            "Epoch 6: saving model to model_init_2022-09-1119_46_19.528232/model-00006-0.99296-0.66782-4.86634-0.16667.h5\n",
            "\n",
            "Epoch 6: ReduceLROnPlateau reducing learning rate to 0.0002500000118743628.\n",
            "17/17 [==============================] - 55s 3s/step - loss: 0.9930 - categorical_accuracy: 0.6678 - val_loss: 4.8663 - val_categorical_accuracy: 0.1667 - lr: 5.0000e-04\n",
            "Epoch 7/15\n",
            "17/17 [==============================] - ETA: 0s - loss: 0.8805 - categorical_accuracy: 0.6782\n",
            "Epoch 7: saving model to model_init_2022-09-1119_46_19.528232/model-00007-0.88045-0.67820-6.19101-0.15000.h5\n",
            "17/17 [==============================] - 55s 3s/step - loss: 0.8805 - categorical_accuracy: 0.6782 - val_loss: 6.1910 - val_categorical_accuracy: 0.1500 - lr: 2.5000e-04\n",
            "Epoch 8/15\n",
            "17/17 [==============================] - ETA: 0s - loss: 0.7445 - categorical_accuracy: 0.7024\n",
            "Epoch 8: saving model to model_init_2022-09-1119_46_19.528232/model-00008-0.74452-0.70242-7.29020-0.20000.h5\n",
            "\n",
            "Epoch 8: ReduceLROnPlateau reducing learning rate to 0.0001250000059371814.\n",
            "17/17 [==============================] - 54s 3s/step - loss: 0.7445 - categorical_accuracy: 0.7024 - val_loss: 7.2902 - val_categorical_accuracy: 0.2000 - lr: 2.5000e-04\n",
            "Epoch 9/15\n",
            "17/17 [==============================] - ETA: 0s - loss: 0.7042 - categorical_accuracy: 0.7439\n",
            "Epoch 9: saving model to model_init_2022-09-1119_46_19.528232/model-00009-0.70420-0.74394-7.20745-0.13333.h5\n",
            "17/17 [==============================] - 55s 3s/step - loss: 0.7042 - categorical_accuracy: 0.7439 - val_loss: 7.2074 - val_categorical_accuracy: 0.1333 - lr: 1.2500e-04\n",
            "Epoch 10/15\n",
            "17/17 [==============================] - ETA: 0s - loss: 0.4774 - categorical_accuracy: 0.8270\n",
            "Epoch 10: saving model to model_init_2022-09-1119_46_19.528232/model-00010-0.47739-0.82699-5.43685-0.28333.h5\n",
            "\n",
            "Epoch 10: ReduceLROnPlateau reducing learning rate to 6.25000029685907e-05.\n",
            "17/17 [==============================] - 55s 3s/step - loss: 0.4774 - categorical_accuracy: 0.8270 - val_loss: 5.4368 - val_categorical_accuracy: 0.2833 - lr: 1.2500e-04\n",
            "Epoch 11/15\n",
            "17/17 [==============================] - ETA: 0s - loss: 0.5817 - categorical_accuracy: 0.8028\n",
            "Epoch 11: saving model to model_init_2022-09-1119_46_19.528232/model-00011-0.58175-0.80277-6.33916-0.21667.h5\n",
            "17/17 [==============================] - 53s 3s/step - loss: 0.5817 - categorical_accuracy: 0.8028 - val_loss: 6.3392 - val_categorical_accuracy: 0.2167 - lr: 6.2500e-05\n",
            "Epoch 12/15\n",
            "17/17 [==============================] - ETA: 0s - loss: 0.5565 - categorical_accuracy: 0.7889\n",
            "Epoch 12: saving model to model_init_2022-09-1119_46_19.528232/model-00012-0.55648-0.78893-5.64011-0.23333.h5\n",
            "\n",
            "Epoch 12: ReduceLROnPlateau reducing learning rate to 3.125000148429535e-05.\n",
            "17/17 [==============================] - 54s 3s/step - loss: 0.5565 - categorical_accuracy: 0.7889 - val_loss: 5.6401 - val_categorical_accuracy: 0.2333 - lr: 6.2500e-05\n",
            "Epoch 13/15\n",
            "17/17 [==============================] - ETA: 0s - loss: 0.5323 - categorical_accuracy: 0.7785\n",
            "Epoch 13: saving model to model_init_2022-09-1119_46_19.528232/model-00013-0.53234-0.77855-4.62800-0.31667.h5\n",
            "17/17 [==============================] - 56s 3s/step - loss: 0.5323 - categorical_accuracy: 0.7785 - val_loss: 4.6280 - val_categorical_accuracy: 0.3167 - lr: 3.1250e-05\n",
            "Epoch 14/15\n",
            "17/17 [==============================] - ETA: 0s - loss: 0.5423 - categorical_accuracy: 0.7820\n",
            "Epoch 14: saving model to model_init_2022-09-1119_46_19.528232/model-00014-0.54232-0.78201-4.86900-0.21667.h5\n",
            "\n",
            "Epoch 14: ReduceLROnPlateau reducing learning rate to 1.5625000742147677e-05.\n",
            "17/17 [==============================] - 53s 3s/step - loss: 0.5423 - categorical_accuracy: 0.7820 - val_loss: 4.8690 - val_categorical_accuracy: 0.2167 - lr: 3.1250e-05\n",
            "Epoch 15/15\n",
            "17/17 [==============================] - ETA: 0s - loss: 0.4623 - categorical_accuracy: 0.8408\n",
            "Epoch 15: saving model to model_init_2022-09-1119_46_19.528232/model-00015-0.46231-0.84083-4.53224-0.25000.h5\n",
            "17/17 [==============================] - 58s 4s/step - loss: 0.4623 - categorical_accuracy: 0.8408 - val_loss: 4.5322 - val_categorical_accuracy: 0.2500 - lr: 1.5625e-05\n"
          ]
        },
        {
          "output_type": "execute_result",
          "data": {
            "text/plain": [
              "<keras.callbacks.History at 0x7f226204d950>"
            ]
          },
          "metadata": {},
          "execution_count": 18
        }
      ],
      "source": [
        "model.fit_generator(train_generator, steps_per_epoch=steps_per_epoch, epochs=num_epochs, verbose=1, \n",
        "                    callbacks=callbacks_list, validation_data=val_generator, \n",
        "                    validation_steps=validation_steps, class_weight=None, workers=1, initial_epoch=0)"
      ]
    },
    {
      "cell_type": "markdown",
      "source": [
        "**Conclusion:** With a batch size of 40 and 15 epochs, the training accuracy (categorical_accuracy) is 0.84 and validation accuracy (val_categorical_accuracy) is 0.25"
      ],
      "metadata": {
        "id": "SgNdfflwDRP0"
      }
    },
    {
      "cell_type": "markdown",
      "source": [
        "**Experiment 2:** Conv3D with an image size of 140 X 140 and batch size 40, 15 epochs"
      ],
      "metadata": {
        "id": "fk6idFqgeO5R"
      }
    },
    {
      "cell_type": "code",
      "execution_count": 12,
      "metadata": {
        "id": "iyeL1lhFX_le"
      },
      "outputs": [],
      "source": [
        "# Different size of images experimentation\n",
        "\n",
        "channels = 3 # RGB as 3D Convlution\n",
        "classes = 5\n",
        "x = 30\n",
        "y = 120\n",
        "z = 120 \n",
        "\n",
        "def generator_new(source_path, folder_list, batch_size):\n",
        "    print( 'Source path = ', source_path, '; batch size =', batch_size)\n",
        "    img_idx = [x for x in range(0,x)] #list of image numbers for a video\n",
        "    while True:\n",
        "        t = np.random.permutation(folder_list)\n",
        "        num_batches = len(folder_list)//batch_size # calculate the number of batches\n",
        "        for batch in range(num_batches): # iterate over the number of batches\n",
        "            batch_data = np.zeros((batch_size,x,y,z,channels)) # x is the number of images, (y,z) is the final size of the input and 3 is the number of channels\n",
        "            batch_labels = np.zeros((batch_size,classes)) # batch_labels is the one hot representation of the output\n",
        "            for folder in range(batch_size): # iterate over the batch_size\n",
        "                imgs = os.listdir(source_path+'/'+ t[folder + (batch*batch_size)].split(';')[0]) # read all the images in the folder\n",
        "                for idx,item in enumerate(img_idx): #  Iterate over the frames/images of a folder\n",
        "                    image = imread(source_path+'/'+ t[folder + (batch*batch_size)].strip().split(';')[0]+'/'+imgs[item]).astype(np.float32)\n",
        "                    \n",
        "                    #crop the images and resize them. Note that the images are of 2 different shape \n",
        "                  \n",
        "                    Temp_img = imresize(image,(y,z)) \n",
        "                    Temp_img = Temp_img.mean(axis=-1,keepdims=1)  # Let us convert to the Grey scale\n",
        "                    Temp_img = Temp_img/127.5-1 \n",
        "                    \n",
        "                    batch_data[folder,idx] = Temp_img #normalise and feed in the image\n",
        "                    \n",
        "                batch_labels[folder, int(t[folder + (batch*batch_size)].strip().split(';')[2])] = 1\n",
        "            yield batch_data, batch_labels      \n",
        "              \n",
        "\n",
        "        \n",
        "        if (len(folder_list) != batch_size*num_batches):\n",
        "            print(\"Batches: \",num_batches+1,\"Index:\", batch_size)\n",
        "            batch_size = len(folder_list) - (batch_size*num_batches)\n",
        "            batch_data = np.zeros((batch_size,x,y,z,channels)) # x is the number of images you use for each video, (y,z) is the final size of the input images and 3 is the number of channels RGB\n",
        "            batch_labels = np.zeros((batch_size,classes)) # batch_labels is the one hot representation of the output\n",
        "            for folder in range(batch_size): # iterate over the batch_size\n",
        "                imgs = os.listdir(source_path+'/'+ t[folder + (batch*batch_size)].split(';')[0]) # read all the images in the folder\n",
        "                for idx,item in enumerate(img_idx): #  Iterate iver the frames/images of a folder to read them in\n",
        "                    image = imread(source_path+'/'+ t[folder + (batch*batch_size)].strip().split(';')[0]+'/'+imgs[item]).astype(np.float32)\n",
        "                   \n",
        "                    Temp_img = imresize(image,(y,z))\n",
        "                    Temp_img = Temp_img.mean(axis=-1,keepdims=1)  # Let us convert to the Grey scale \n",
        "                    Temp_img = Temp_img/127.5-1 #Normalize data\n",
        "                    \n",
        "                    batch_data[folder,idx] = Temp_img\n",
        "                   \n",
        "                batch_labels[folder, int(t[folder + (batch*batch_size)].strip().split(';')[2])] = 1\n",
        "            yield batch_data, batch_labels"
      ]
    },
    {
      "cell_type": "code",
      "source": [
        "#from keras.models import Sequential, Model\n",
        "#from keras.layers import Dense, GRU, Flatten, TimeDistributed, Flatten, BatchNormalization, Activation, Dropout\n",
        "#from keras.layers.convolutional import Conv3D, MaxPooling3D\n",
        "#from keras.callbacks import ModelCheckpoint, ReduceLROnPlateau\n",
        "#from keras import optimizers\n",
        "\n",
        "# Input all the images sequencial by building the layer with dropouts and batchnormalisation\n",
        "\n",
        "model_2 = Sequential()       \n",
        "model_2.add(Conv3D(8,kernel_size=(3,3,3),input_shape=(30, 120, 120, 3),padding='same'))\n",
        "model_2.add(BatchNormalization())\n",
        "model_2.add(Activation('relu'))\n",
        "\n",
        "model_2.add(Conv3D(16, (3, 3, 3), padding='same'))\n",
        "model_2.add(Activation('relu'))\n",
        "model_2.add(BatchNormalization())\n",
        "model_2.add(MaxPooling3D(pool_size=(2, 2, 2)))\n",
        "\n",
        "model_2.add(Conv3D(32, (2, 2, 2), padding='same'))\n",
        "model_2.add(Activation('relu'))\n",
        "model_2.add(BatchNormalization())\n",
        "model_2.add(MaxPooling3D(pool_size=(2, 2, 2)))\n",
        "\n",
        "model_2.add(Conv3D(64, (2, 2, 2), padding='same'))\n",
        "model_2.add(Activation('relu'))\n",
        "model_2.add(BatchNormalization())\n",
        "model_2.add(MaxPooling3D(pool_size=(2, 2, 2)))\n",
        "\n",
        "model_2.add(Conv3D(128, (2, 2, 2), padding='same'))\n",
        "model_2.add(Activation('relu'))\n",
        "model_2.add(BatchNormalization())\n",
        "model_2.add(MaxPooling3D(pool_size=(2, 2, 2)))      \n",
        "\n",
        "# Flatten layer \n",
        "\n",
        "model_2.add(Flatten())\n",
        "\n",
        "model_2.add(Dense(1000, activation='relu'))\n",
        "model_2.add(Dropout(0.5))\n",
        "\n",
        "model_2.add(Dense(500, activation='relu'))\n",
        "model_2.add(Dropout(0.5))\n",
        "\n",
        "#Softmax layer\n",
        "\n",
        "model_2.add(Dense(5, activation='softmax'))\n",
        "\n",
        "# Let us use the Adam optimiser \n",
        "\n",
        "optimiser = tf.keras.optimizers.Adam(learning_rate=0.001)\n",
        "model_2.compile(optimizer=optimiser, loss='categorical_crossentropy', metrics=['categorical_accuracy'])\n",
        "print (model_2.summary())"
      ],
      "metadata": {
        "colab": {
          "base_uri": "https://localhost:8080/"
        },
        "id": "eW1GtpDKEq_p",
        "outputId": "5352f24a-bc17-42a2-a32f-6bfc61f41cab"
      },
      "execution_count": 20,
      "outputs": [
        {
          "output_type": "stream",
          "name": "stdout",
          "text": [
            "Model: \"sequential_1\"\n",
            "_________________________________________________________________\n",
            " Layer (type)                Output Shape              Param #   \n",
            "=================================================================\n",
            " conv3d_5 (Conv3D)           (None, 30, 120, 120, 8)   656       \n",
            "                                                                 \n",
            " batch_normalization_5 (Batc  (None, 30, 120, 120, 8)  32        \n",
            " hNormalization)                                                 \n",
            "                                                                 \n",
            " activation_5 (Activation)   (None, 30, 120, 120, 8)   0         \n",
            "                                                                 \n",
            " conv3d_6 (Conv3D)           (None, 30, 120, 120, 16)  3472      \n",
            "                                                                 \n",
            " activation_6 (Activation)   (None, 30, 120, 120, 16)  0         \n",
            "                                                                 \n",
            " batch_normalization_6 (Batc  (None, 30, 120, 120, 16)  64       \n",
            " hNormalization)                                                 \n",
            "                                                                 \n",
            " max_pooling3d_4 (MaxPooling  (None, 15, 60, 60, 16)   0         \n",
            " 3D)                                                             \n",
            "                                                                 \n",
            " conv3d_7 (Conv3D)           (None, 15, 60, 60, 32)    4128      \n",
            "                                                                 \n",
            " activation_7 (Activation)   (None, 15, 60, 60, 32)    0         \n",
            "                                                                 \n",
            " batch_normalization_7 (Batc  (None, 15, 60, 60, 32)   128       \n",
            " hNormalization)                                                 \n",
            "                                                                 \n",
            " max_pooling3d_5 (MaxPooling  (None, 7, 30, 30, 32)    0         \n",
            " 3D)                                                             \n",
            "                                                                 \n",
            " conv3d_8 (Conv3D)           (None, 7, 30, 30, 64)     16448     \n",
            "                                                                 \n",
            " activation_8 (Activation)   (None, 7, 30, 30, 64)     0         \n",
            "                                                                 \n",
            " batch_normalization_8 (Batc  (None, 7, 30, 30, 64)    256       \n",
            " hNormalization)                                                 \n",
            "                                                                 \n",
            " max_pooling3d_6 (MaxPooling  (None, 3, 15, 15, 64)    0         \n",
            " 3D)                                                             \n",
            "                                                                 \n",
            " conv3d_9 (Conv3D)           (None, 3, 15, 15, 128)    65664     \n",
            "                                                                 \n",
            " activation_9 (Activation)   (None, 3, 15, 15, 128)    0         \n",
            "                                                                 \n",
            " batch_normalization_9 (Batc  (None, 3, 15, 15, 128)   512       \n",
            " hNormalization)                                                 \n",
            "                                                                 \n",
            " max_pooling3d_7 (MaxPooling  (None, 1, 7, 7, 128)     0         \n",
            " 3D)                                                             \n",
            "                                                                 \n",
            " flatten_1 (Flatten)         (None, 6272)              0         \n",
            "                                                                 \n",
            " dense_3 (Dense)             (None, 1000)              6273000   \n",
            "                                                                 \n",
            " dropout_2 (Dropout)         (None, 1000)              0         \n",
            "                                                                 \n",
            " dense_4 (Dense)             (None, 500)               500500    \n",
            "                                                                 \n",
            " dropout_3 (Dropout)         (None, 500)               0         \n",
            "                                                                 \n",
            " dense_5 (Dense)             (None, 5)                 2505      \n",
            "                                                                 \n",
            "=================================================================\n",
            "Total params: 6,867,365\n",
            "Trainable params: 6,866,869\n",
            "Non-trainable params: 496\n",
            "_________________________________________________________________\n",
            "None\n"
          ]
        }
      ]
    },
    {
      "cell_type": "code",
      "source": [
        "train_generator = generator_new(train_path, train_doc, batch_size)\n",
        "val_generator = generator_new(val_path, val_doc, batch_size)"
      ],
      "metadata": {
        "id": "WLQQonRpb57M"
      },
      "execution_count": 21,
      "outputs": []
    },
    {
      "cell_type": "code",
      "source": [
        "model_2.fit_generator(train_generator, steps_per_epoch=steps_per_epoch, epochs=num_epochs, verbose=1, \n",
        "                    callbacks=callbacks_list, validation_data=val_generator, \n",
        "                    validation_steps=validation_steps, class_weight=None, workers=1, initial_epoch=0)"
      ],
      "metadata": {
        "colab": {
          "base_uri": "https://localhost:8080/"
        },
        "id": "Ns73UdJGcAs7",
        "outputId": "9d564382-8ad7-4ff3-dde8-8cb4da017bcb"
      },
      "execution_count": 22,
      "outputs": [
        {
          "output_type": "stream",
          "name": "stderr",
          "text": [
            "/usr/local/lib/python3.7/dist-packages/ipykernel_launcher.py:3: UserWarning: `Model.fit_generator` is deprecated and will be removed in a future version. Please use `Model.fit`, which supports generators.\n",
            "  This is separate from the ipykernel package so we can avoid doing imports until\n",
            "/usr/local/lib/python3.7/dist-packages/ipykernel_launcher.py:21: DeprecationWarning:     `imread` is deprecated!\n",
            "    `imread` is deprecated in SciPy 1.0.0, and will be removed in 1.2.0.\n",
            "    Use ``imageio.imread`` instead.\n",
            "/usr/local/lib/python3.7/dist-packages/ipykernel_launcher.py:25: DeprecationWarning:     `imresize` is deprecated!\n",
            "    `imresize` is deprecated in SciPy 1.0.0, and will be removed in 1.3.0.\n",
            "    Use Pillow instead: ``numpy.array(Image.fromarray(arr).resize())``.\n"
          ]
        },
        {
          "output_type": "stream",
          "name": "stdout",
          "text": [
            "Source path =  /content/drive/My Drive/Colab Notebooks/Project_data/train ; batch size = 40\n",
            "Epoch 1/15\n",
            "15/17 [=========================>....] - ETA: 12s - loss: 7.1389 - categorical_accuracy: 0.3233Batches:  17 Index: 40\n"
          ]
        },
        {
          "output_type": "stream",
          "name": "stderr",
          "text": [
            "/usr/local/lib/python3.7/dist-packages/ipykernel_launcher.py:44: DeprecationWarning:     `imread` is deprecated!\n",
            "    `imread` is deprecated in SciPy 1.0.0, and will be removed in 1.2.0.\n",
            "    Use ``imageio.imread`` instead.\n",
            "/usr/local/lib/python3.7/dist-packages/ipykernel_launcher.py:46: DeprecationWarning:     `imresize` is deprecated!\n",
            "    `imresize` is deprecated in SciPy 1.0.0, and will be removed in 1.3.0.\n",
            "    Use Pillow instead: ``numpy.array(Image.fromarray(arr).resize())``.\n"
          ]
        },
        {
          "output_type": "stream",
          "name": "stdout",
          "text": [
            "17/17 [==============================] - ETA: 0s - loss: 6.8109 - categorical_accuracy: 0.3258Source path =  /content/drive/My Drive/Colab Notebooks/Project_data/val ; batch size = 40\n",
            "Batches:  3 Index: 40\n",
            "\n",
            "Epoch 1: saving model to model_init_2022-09-1119_46_19.528232/model-00001-6.81092-0.32579-1.38432-0.34000.h5\n",
            "17/17 [==============================] - 132s 8s/step - loss: 6.8109 - categorical_accuracy: 0.3258 - val_loss: 1.3843 - val_categorical_accuracy: 0.3400 - lr: 0.0010\n",
            "Epoch 2/15\n",
            "17/17 [==============================] - ETA: 0s - loss: 2.8302 - categorical_accuracy: 0.4348\n",
            "Epoch 2: saving model to model_init_2022-09-1119_46_19.528232/model-00002-2.83016-0.43478-2.57101-0.21667.h5\n",
            "17/17 [==============================] - 74s 5s/step - loss: 2.8302 - categorical_accuracy: 0.4348 - val_loss: 2.5710 - val_categorical_accuracy: 0.2167 - lr: 0.0010\n",
            "Epoch 3/15\n",
            "10/17 [================>.............] - ETA: 25s - loss: 2.0194 - categorical_accuracy: 0.4652Batches:  29 Index: 23\n",
            "17/17 [==============================] - ETA: 0s - loss: 2.0311 - categorical_accuracy: 0.4578\n",
            "Epoch 3: saving model to model_init_2022-09-1119_46_19.528232/model-00003-2.03107-0.45777-4.85059-0.18333.h5\n",
            "\n",
            "Epoch 3: ReduceLROnPlateau reducing learning rate to 0.0005000000237487257.\n",
            "17/17 [==============================] - 75s 5s/step - loss: 2.0311 - categorical_accuracy: 0.4578 - val_loss: 4.8506 - val_categorical_accuracy: 0.1833 - lr: 0.0010\n",
            "Epoch 4/15\n",
            "17/17 [==============================] - ETA: 0s - loss: 1.7443 - categorical_accuracy: 0.4644\n",
            "Epoch 4: saving model to model_init_2022-09-1119_46_19.528232/model-00004-1.74428-0.46440-4.56134-0.21667.h5\n",
            "17/17 [==============================] - 70s 4s/step - loss: 1.7443 - categorical_accuracy: 0.4644 - val_loss: 4.5613 - val_categorical_accuracy: 0.2167 - lr: 5.0000e-04\n",
            "Epoch 5/15\n",
            "11/17 [==================>...........] - ETA: 19s - loss: 1.4200 - categorical_accuracy: 0.5120Batches:  35 Index: 19\n",
            "17/17 [==============================] - ETA: 0s - loss: 1.3584 - categorical_accuracy: 0.5495\n",
            "Epoch 5: saving model to model_init_2022-09-1119_46_19.528232/model-00005-1.35845-0.54952-6.14751-0.25000.h5\n",
            "\n",
            "Epoch 5: ReduceLROnPlateau reducing learning rate to 0.0002500000118743628.\n",
            "17/17 [==============================] - 70s 4s/step - loss: 1.3584 - categorical_accuracy: 0.5495 - val_loss: 6.1475 - val_categorical_accuracy: 0.2500 - lr: 5.0000e-04\n",
            "Epoch 6/15\n",
            "17/17 [==============================] - ETA: 0s - loss: 1.1344 - categorical_accuracy: 0.5917\n",
            "Epoch 6: saving model to model_init_2022-09-1119_46_19.528232/model-00006-1.13437-0.59170-5.39399-0.28333.h5\n",
            "17/17 [==============================] - 60s 4s/step - loss: 1.1344 - categorical_accuracy: 0.5917 - val_loss: 5.3940 - val_categorical_accuracy: 0.2833 - lr: 2.5000e-04\n",
            "Epoch 7/15\n",
            "17/17 [==============================] - ETA: 0s - loss: 1.0889 - categorical_accuracy: 0.6228\n",
            "Epoch 7: saving model to model_init_2022-09-1119_46_19.528232/model-00007-1.08886-0.62284-5.81402-0.30000.h5\n",
            "\n",
            "Epoch 7: ReduceLROnPlateau reducing learning rate to 0.0001250000059371814.\n",
            "17/17 [==============================] - 60s 4s/step - loss: 1.0889 - categorical_accuracy: 0.6228 - val_loss: 5.8140 - val_categorical_accuracy: 0.3000 - lr: 2.5000e-04\n",
            "Epoch 8/15\n",
            "17/17 [==============================] - ETA: 0s - loss: 0.8869 - categorical_accuracy: 0.6471\n",
            "Epoch 8: saving model to model_init_2022-09-1119_46_19.528232/model-00008-0.88689-0.64706-5.11307-0.36667.h5\n",
            "17/17 [==============================] - 70s 4s/step - loss: 0.8869 - categorical_accuracy: 0.6471 - val_loss: 5.1131 - val_categorical_accuracy: 0.3667 - lr: 1.2500e-04\n",
            "Epoch 9/15\n",
            "17/17 [==============================] - ETA: 0s - loss: 0.8912 - categorical_accuracy: 0.6332\n",
            "Epoch 9: saving model to model_init_2022-09-1119_46_19.528232/model-00009-0.89122-0.63322-5.85545-0.28333.h5\n",
            "\n",
            "Epoch 9: ReduceLROnPlateau reducing learning rate to 6.25000029685907e-05.\n",
            "17/17 [==============================] - 67s 4s/step - loss: 0.8912 - categorical_accuracy: 0.6332 - val_loss: 5.8555 - val_categorical_accuracy: 0.2833 - lr: 1.2500e-04\n",
            "Epoch 10/15\n",
            "17/17 [==============================] - ETA: 0s - loss: 0.7595 - categorical_accuracy: 0.6817\n",
            "Epoch 10: saving model to model_init_2022-09-1119_46_19.528232/model-00010-0.75948-0.68166-6.38727-0.21667.h5\n",
            "17/17 [==============================] - 65s 4s/step - loss: 0.7595 - categorical_accuracy: 0.6817 - val_loss: 6.3873 - val_categorical_accuracy: 0.2167 - lr: 6.2500e-05\n",
            "Epoch 11/15\n",
            "17/17 [==============================] - ETA: 0s - loss: 0.7068 - categorical_accuracy: 0.7163\n",
            "Epoch 11: saving model to model_init_2022-09-1119_46_19.528232/model-00011-0.70675-0.71626-6.14770-0.21667.h5\n",
            "\n",
            "Epoch 11: ReduceLROnPlateau reducing learning rate to 3.125000148429535e-05.\n",
            "17/17 [==============================] - 65s 4s/step - loss: 0.7068 - categorical_accuracy: 0.7163 - val_loss: 6.1477 - val_categorical_accuracy: 0.2167 - lr: 6.2500e-05\n",
            "Epoch 12/15\n",
            "17/17 [==============================] - ETA: 0s - loss: 0.8288 - categorical_accuracy: 0.6713\n",
            "Epoch 12: saving model to model_init_2022-09-1119_46_19.528232/model-00012-0.82881-0.67128-5.27579-0.26667.h5\n",
            "17/17 [==============================] - 65s 4s/step - loss: 0.8288 - categorical_accuracy: 0.6713 - val_loss: 5.2758 - val_categorical_accuracy: 0.2667 - lr: 3.1250e-05\n",
            "Epoch 13/15\n",
            "17/17 [==============================] - ETA: 0s - loss: 0.7773 - categorical_accuracy: 0.6609\n",
            "Epoch 13: saving model to model_init_2022-09-1119_46_19.528232/model-00013-0.77731-0.66090-5.82840-0.28333.h5\n",
            "\n",
            "Epoch 13: ReduceLROnPlateau reducing learning rate to 1.5625000742147677e-05.\n",
            "17/17 [==============================] - 59s 4s/step - loss: 0.7773 - categorical_accuracy: 0.6609 - val_loss: 5.8284 - val_categorical_accuracy: 0.2833 - lr: 3.1250e-05\n",
            "Epoch 14/15\n",
            "17/17 [==============================] - ETA: 0s - loss: 0.9076 - categorical_accuracy: 0.6125\n",
            "Epoch 14: saving model to model_init_2022-09-1119_46_19.528232/model-00014-0.90758-0.61246-4.09917-0.36667.h5\n",
            "17/17 [==============================] - 61s 4s/step - loss: 0.9076 - categorical_accuracy: 0.6125 - val_loss: 4.0992 - val_categorical_accuracy: 0.3667 - lr: 1.5625e-05\n",
            "Epoch 15/15\n",
            "17/17 [==============================] - ETA: 0s - loss: 0.7429 - categorical_accuracy: 0.6990\n",
            "Epoch 15: saving model to model_init_2022-09-1119_46_19.528232/model-00015-0.74293-0.69896-4.67673-0.26667.h5\n",
            "\n",
            "Epoch 15: ReduceLROnPlateau reducing learning rate to 7.812500371073838e-06.\n",
            "17/17 [==============================] - 58s 4s/step - loss: 0.7429 - categorical_accuracy: 0.6990 - val_loss: 4.6767 - val_categorical_accuracy: 0.2667 - lr: 1.5625e-05\n"
          ]
        },
        {
          "output_type": "execute_result",
          "data": {
            "text/plain": [
              "<keras.callbacks.History at 0x7f224c257390>"
            ]
          },
          "metadata": {},
          "execution_count": 22
        }
      ]
    },
    {
      "cell_type": "markdown",
      "source": [
        "**Conclusion (Image Size 140 X 140):** With a batch size of 40 and 15 epochs, the training accuracy (categorical_accuracy) is 0.70 and validation accuracy (val_categorical_accuracy) is 0.27"
      ],
      "metadata": {
        "id": "FfAcqsY1fFxk"
      }
    },
    {
      "cell_type": "markdown",
      "source": [
        "**Experiment 3:** CNN + LSTM w/Image Size of  160 X 160, batch size of 40 and 15 epochs"
      ],
      "metadata": {
        "id": "hsPqCKmugzM_"
      }
    },
    {
      "cell_type": "code",
      "source": [
        "from keras.models import Sequential, Model\n",
        "from keras.layers import Dense, GRU, Flatten, TimeDistributed, Flatten, BatchNormalization, Activation,Dropout\n",
        "from keras.layers.convolutional import Conv3D, MaxPooling3D, Conv2D, MaxPooling2D\n",
        "from keras.layers.recurrent import LSTM\n",
        "from keras.callbacks import ModelCheckpoint, ReduceLROnPlateau\n",
        "from keras import optimizers"
      ],
      "metadata": {
        "id": "C8sO8zqNhwn4"
      },
      "execution_count": 13,
      "outputs": []
    },
    {
      "cell_type": "code",
      "source": [
        "x = 30 # number of frames\n",
        "y = 160 # image width\n",
        "z = 160 # image height\n",
        "\n",
        "# Input all the images sequencial by building the layer with dropouts and batchnormalisation\n",
        "\n",
        "model_3 = Sequential()   \n",
        "model_3.add(TimeDistributed(Conv2D(16, (3, 3),padding='same', activation='relu'),input_shape=(x,y,z,3)))\n",
        "model_3.add(TimeDistributed(BatchNormalization()))\n",
        "model_3.add(TimeDistributed(MaxPooling2D((2, 2))))\n",
        "        \n",
        "model_3.add(TimeDistributed(Conv2D(32, (3, 3) , padding='same', activation='relu')))\n",
        "model_3.add(TimeDistributed(BatchNormalization()))\n",
        "model_3.add(TimeDistributed(MaxPooling2D((2, 2))))\n",
        "        \n",
        "model_3.add(TimeDistributed(Conv2D(64, (3, 3) , padding='same', activation='relu')))\n",
        "model_3.add(TimeDistributed(BatchNormalization()))\n",
        "model_3.add(TimeDistributed(MaxPooling2D((2, 2))))\n",
        "        \n",
        "model_3.add(TimeDistributed(Conv2D(128, (3, 3) , padding='same', activation='relu')))\n",
        "model_3.add(TimeDistributed(BatchNormalization()))\n",
        "model_3.add(TimeDistributed(MaxPooling2D((2, 2))))\n",
        "        \n",
        "model_3.add(TimeDistributed(Conv2D(256, (3, 3) , padding='same', activation='relu')))\n",
        "model_3.add(TimeDistributed(BatchNormalization()))\n",
        "model_3.add(TimeDistributed(MaxPooling2D((2, 2))))\n",
        "\n",
        "# Add a flatten layer \n",
        "\n",
        "model_3.add(TimeDistributed(Flatten()))\n",
        "\n",
        "model_3.add(LSTM(64))\n",
        "model_3.add(Dropout(0.25))\n",
        "\n",
        "# Add a dense layer \n",
        "model_3.add(Dense(64,activation='relu'))\n",
        "model_3.add(Dropout(0.25))\n",
        "\n",
        "# Final Softmax layer\n",
        "\n",
        "model_3.add(Dense(5, activation='softmax'))\n",
        "\n",
        "# Adam optimiser\n",
        "\n",
        "optimiser = tf.keras.optimizers.Adam(learning_rate=0.001) #write your optimizer\n",
        "model_3.compile(optimizer=optimiser, loss='categorical_crossentropy', metrics=['categorical_accuracy'])\n",
        "print (model_3.summary())"
      ],
      "metadata": {
        "colab": {
          "base_uri": "https://localhost:8080/"
        },
        "id": "m90BWWRQgs48",
        "outputId": "59fa10bb-5d46-4021-84b1-442dff47d0a7"
      },
      "execution_count": 14,
      "outputs": [
        {
          "output_type": "stream",
          "name": "stdout",
          "text": [
            "Model: \"sequential\"\n",
            "_________________________________________________________________\n",
            " Layer (type)                Output Shape              Param #   \n",
            "=================================================================\n",
            " time_distributed (TimeDistr  (None, 30, 160, 160, 16)  448      \n",
            " ibuted)                                                         \n",
            "                                                                 \n",
            " time_distributed_1 (TimeDis  (None, 30, 160, 160, 16)  64       \n",
            " tributed)                                                       \n",
            "                                                                 \n",
            " time_distributed_2 (TimeDis  (None, 30, 80, 80, 16)   0         \n",
            " tributed)                                                       \n",
            "                                                                 \n",
            " time_distributed_3 (TimeDis  (None, 30, 80, 80, 32)   4640      \n",
            " tributed)                                                       \n",
            "                                                                 \n",
            " time_distributed_4 (TimeDis  (None, 30, 80, 80, 32)   128       \n",
            " tributed)                                                       \n",
            "                                                                 \n",
            " time_distributed_5 (TimeDis  (None, 30, 40, 40, 32)   0         \n",
            " tributed)                                                       \n",
            "                                                                 \n",
            " time_distributed_6 (TimeDis  (None, 30, 40, 40, 64)   18496     \n",
            " tributed)                                                       \n",
            "                                                                 \n",
            " time_distributed_7 (TimeDis  (None, 30, 40, 40, 64)   256       \n",
            " tributed)                                                       \n",
            "                                                                 \n",
            " time_distributed_8 (TimeDis  (None, 30, 20, 20, 64)   0         \n",
            " tributed)                                                       \n",
            "                                                                 \n",
            " time_distributed_9 (TimeDis  (None, 30, 20, 20, 128)  73856     \n",
            " tributed)                                                       \n",
            "                                                                 \n",
            " time_distributed_10 (TimeDi  (None, 30, 20, 20, 128)  512       \n",
            " stributed)                                                      \n",
            "                                                                 \n",
            " time_distributed_11 (TimeDi  (None, 30, 10, 10, 128)  0         \n",
            " stributed)                                                      \n",
            "                                                                 \n",
            " time_distributed_12 (TimeDi  (None, 30, 10, 10, 256)  295168    \n",
            " stributed)                                                      \n",
            "                                                                 \n",
            " time_distributed_13 (TimeDi  (None, 30, 10, 10, 256)  1024      \n",
            " stributed)                                                      \n",
            "                                                                 \n",
            " time_distributed_14 (TimeDi  (None, 30, 5, 5, 256)    0         \n",
            " stributed)                                                      \n",
            "                                                                 \n",
            " time_distributed_15 (TimeDi  (None, 30, 6400)         0         \n",
            " stributed)                                                      \n",
            "                                                                 \n",
            " lstm (LSTM)                 (None, 64)                1655040   \n",
            "                                                                 \n",
            " dropout (Dropout)           (None, 64)                0         \n",
            "                                                                 \n",
            " dense (Dense)               (None, 64)                4160      \n",
            "                                                                 \n",
            " dropout_1 (Dropout)         (None, 64)                0         \n",
            "                                                                 \n",
            " dense_1 (Dense)             (None, 5)                 325       \n",
            "                                                                 \n",
            "=================================================================\n",
            "Total params: 2,054,117\n",
            "Trainable params: 2,053,125\n",
            "Non-trainable params: 992\n",
            "_________________________________________________________________\n",
            "None\n"
          ]
        }
      ]
    },
    {
      "cell_type": "code",
      "source": [
        "#reducing batch size due to OOM error in the fit_generator step\n",
        "batch_size = 16\n",
        "train_generator = generator_new(train_path, train_doc, batch_size)\n",
        "val_generator = generator_new(val_path, val_doc, batch_size)"
      ],
      "metadata": {
        "id": "0njg7Zq2hzal"
      },
      "execution_count": 15,
      "outputs": []
    },
    {
      "cell_type": "code",
      "source": [
        "model_3.fit_generator(train_generator, steps_per_epoch=steps_per_epoch, epochs=num_epochs, verbose=1, \n",
        "                    callbacks=callbacks_list, validation_data=val_generator, \n",
        "                    validation_steps=validation_steps, class_weight=None, workers=1, initial_epoch=0)"
      ],
      "metadata": {
        "colab": {
          "base_uri": "https://localhost:8080/"
        },
        "id": "rpyJjJ_Kh6Xf",
        "outputId": "bfaf5bea-75ca-4bf8-824a-79771900bfd9"
      },
      "execution_count": 20,
      "outputs": [
        {
          "output_type": "stream",
          "name": "stderr",
          "text": [
            "/usr/local/lib/python3.7/dist-packages/ipykernel_launcher.py:3: UserWarning: `Model.fit_generator` is deprecated and will be removed in a future version. Please use `Model.fit`, which supports generators.\n",
            "  This is separate from the ipykernel package so we can avoid doing imports until\n",
            "/usr/local/lib/python3.7/dist-packages/ipykernel_launcher.py:21: DeprecationWarning:     `imread` is deprecated!\n",
            "    `imread` is deprecated in SciPy 1.0.0, and will be removed in 1.2.0.\n",
            "    Use ``imageio.imread`` instead.\n",
            "/usr/local/lib/python3.7/dist-packages/ipykernel_launcher.py:25: DeprecationWarning:     `imresize` is deprecated!\n",
            "    `imresize` is deprecated in SciPy 1.0.0, and will be removed in 1.3.0.\n",
            "    Use Pillow instead: ``numpy.array(Image.fromarray(arr).resize())``.\n"
          ]
        },
        {
          "output_type": "stream",
          "name": "stdout",
          "text": [
            "Source path =  /content/drive/My Drive/Colab Notebooks/Project_data/train ; batch size = 16\n",
            "Epoch 1/15\n",
            "40/42 [===========================>..] - ETA: 6s - loss: 1.5055 - categorical_accuracy: 0.3453Batches:  42 Index: 16\n"
          ]
        },
        {
          "output_type": "stream",
          "name": "stderr",
          "text": [
            "/usr/local/lib/python3.7/dist-packages/ipykernel_launcher.py:44: DeprecationWarning:     `imread` is deprecated!\n",
            "    `imread` is deprecated in SciPy 1.0.0, and will be removed in 1.2.0.\n",
            "    Use ``imageio.imread`` instead.\n",
            "/usr/local/lib/python3.7/dist-packages/ipykernel_launcher.py:46: DeprecationWarning:     `imresize` is deprecated!\n",
            "    `imresize` is deprecated in SciPy 1.0.0, and will be removed in 1.3.0.\n",
            "    Use Pillow instead: ``numpy.array(Image.fromarray(arr).resize())``.\n"
          ]
        },
        {
          "output_type": "stream",
          "name": "stdout",
          "text": [
            "42/42 [==============================] - ETA: 0s - loss: 1.5029 - categorical_accuracy: 0.3469Source path =  /content/drive/My Drive/Colab Notebooks/Project_data/val ; batch size = 16\n",
            "Batches:  7 Index: 16\n",
            "\n",
            "Epoch 1: saving model to model_init_2022-09-1122_01_23.945085/model-00001-1.50292-0.34691-1.76308-0.22000.h5\n",
            "42/42 [==============================] - 164s 4s/step - loss: 1.5029 - categorical_accuracy: 0.3469 - val_loss: 1.7631 - val_categorical_accuracy: 0.2200 - lr: 0.0010\n",
            "Epoch 2/15\n",
            "42/42 [==============================] - ETA: 0s - loss: 1.3828 - categorical_accuracy: 0.4218\n",
            "Epoch 2: saving model to model_init_2022-09-1122_01_23.945085/model-00002-1.38277-0.42177-2.10137-0.21429.h5\n",
            "42/42 [==============================] - 66s 2s/step - loss: 1.3828 - categorical_accuracy: 0.4218 - val_loss: 2.1014 - val_categorical_accuracy: 0.2143 - lr: 0.0010\n",
            "Epoch 3/15\n",
            "42/42 [==============================] - ETA: 0s - loss: 1.4035 - categorical_accuracy: 0.3844\n",
            "Epoch 3: saving model to model_init_2022-09-1122_01_23.945085/model-00003-1.40348-0.38435-1.76730-0.17857.h5\n",
            "\n",
            "Epoch 3: ReduceLROnPlateau reducing learning rate to 0.0005000000237487257.\n",
            "42/42 [==============================] - 64s 2s/step - loss: 1.4035 - categorical_accuracy: 0.3844 - val_loss: 1.7673 - val_categorical_accuracy: 0.1786 - lr: 0.0010\n",
            "Epoch 4/15\n",
            " 9/42 [=====>........................] - ETA: 43s - loss: 1.4147 - categorical_accuracy: 0.4127Batches:  95 Index: 7\n",
            "42/42 [==============================] - ETA: 0s - loss: 1.4569 - categorical_accuracy: 0.3696\n",
            "Epoch 4: saving model to model_init_2022-09-1122_01_23.945085/model-00004-1.45694-0.36957-1.86322-0.28571.h5\n",
            "42/42 [==============================] - 50s 1s/step - loss: 1.4569 - categorical_accuracy: 0.3696 - val_loss: 1.8632 - val_categorical_accuracy: 0.2857 - lr: 5.0000e-04\n",
            "Epoch 5/15\n",
            "42/42 [==============================] - ETA: 0s - loss: 1.3335 - categorical_accuracy: 0.4238\n",
            "Epoch 5: saving model to model_init_2022-09-1122_01_23.945085/model-00005-1.33349-0.42381-2.42167-0.14286.h5\n",
            "\n",
            "Epoch 5: ReduceLROnPlateau reducing learning rate to 0.0002500000118743628.\n",
            "42/42 [==============================] - 49s 1s/step - loss: 1.3335 - categorical_accuracy: 0.4238 - val_loss: 2.4217 - val_categorical_accuracy: 0.1429 - lr: 5.0000e-04\n",
            "Epoch 6/15\n",
            "42/42 [==============================] - ETA: 0s - loss: 1.3582 - categorical_accuracy: 0.4143\n",
            "Epoch 6: saving model to model_init_2022-09-1122_01_23.945085/model-00006-1.35816-0.41429-1.88752-0.35714.h5\n",
            "42/42 [==============================] - 50s 1s/step - loss: 1.3582 - categorical_accuracy: 0.4143 - val_loss: 1.8875 - val_categorical_accuracy: 0.3571 - lr: 2.5000e-04\n",
            "Epoch 7/15\n",
            "16/42 [==========>...................] - ETA: 27s - loss: 1.3639 - categorical_accuracy: 0.4250Batches:  133 Index: 5\n",
            "42/42 [==============================] - ETA: 0s - loss: 1.3695 - categorical_accuracy: 0.4125\n",
            "Epoch 7: saving model to model_init_2022-09-1122_01_23.945085/model-00007-1.36946-0.41250-2.06932-0.17857.h5\n",
            "\n",
            "Epoch 7: ReduceLROnPlateau reducing learning rate to 0.0001250000059371814.\n",
            "42/42 [==============================] - 41s 984ms/step - loss: 1.3695 - categorical_accuracy: 0.4125 - val_loss: 2.0693 - val_categorical_accuracy: 0.1786 - lr: 2.5000e-04\n",
            "Epoch 8/15\n",
            "42/42 [==============================] - ETA: 0s - loss: 1.2856 - categorical_accuracy: 0.4683\n",
            "Epoch 8: saving model to model_init_2022-09-1122_01_23.945085/model-00008-1.28565-0.46825-1.94319-0.28571.h5\n",
            "42/42 [==============================] - 35s 842ms/step - loss: 1.2856 - categorical_accuracy: 0.4683 - val_loss: 1.9432 - val_categorical_accuracy: 0.2857 - lr: 1.2500e-04\n",
            "Epoch 9/15\n",
            "42/42 [==============================] - ETA: 0s - loss: 1.3856 - categorical_accuracy: 0.4365\n",
            "Epoch 9: saving model to model_init_2022-09-1122_01_23.945085/model-00009-1.38560-0.43651-1.95699-0.35714.h5\n",
            "\n",
            "Epoch 9: ReduceLROnPlateau reducing learning rate to 6.25000029685907e-05.\n",
            "42/42 [==============================] - 34s 813ms/step - loss: 1.3856 - categorical_accuracy: 0.4365 - val_loss: 1.9570 - val_categorical_accuracy: 0.3571 - lr: 1.2500e-04\n",
            "Epoch 10/15\n",
            "42/42 [==============================] - ETA: 0s - loss: 1.3925 - categorical_accuracy: 0.4603\n",
            "Epoch 10: saving model to model_init_2022-09-1122_01_23.945085/model-00010-1.39253-0.46032-1.77340-0.21429.h5\n",
            "42/42 [==============================] - 32s 770ms/step - loss: 1.3925 - categorical_accuracy: 0.4603 - val_loss: 1.7734 - val_categorical_accuracy: 0.2143 - lr: 6.2500e-05\n",
            "Epoch 11/15\n",
            "42/42 [==============================] - ETA: 0s - loss: 1.3295 - categorical_accuracy: 0.4286\n",
            "Epoch 11: saving model to model_init_2022-09-1122_01_23.945085/model-00011-1.32952-0.42857-1.56567-0.32143.h5\n",
            "42/42 [==============================] - 37s 899ms/step - loss: 1.3295 - categorical_accuracy: 0.4286 - val_loss: 1.5657 - val_categorical_accuracy: 0.3214 - lr: 6.2500e-05\n",
            "Epoch 12/15\n",
            "42/42 [==============================] - ETA: 0s - loss: 1.2940 - categorical_accuracy: 0.4444\n",
            "Epoch 12: saving model to model_init_2022-09-1122_01_23.945085/model-00012-1.29396-0.44444-1.49721-0.39286.h5\n",
            "42/42 [==============================] - 35s 857ms/step - loss: 1.2940 - categorical_accuracy: 0.4444 - val_loss: 1.4972 - val_categorical_accuracy: 0.3929 - lr: 6.2500e-05\n",
            "Epoch 13/15\n",
            "42/42 [==============================] - ETA: 0s - loss: 1.3023 - categorical_accuracy: 0.4524\n",
            "Epoch 13: saving model to model_init_2022-09-1122_01_23.945085/model-00013-1.30231-0.45238-1.43257-0.42857.h5\n",
            "42/42 [==============================] - 34s 825ms/step - loss: 1.3023 - categorical_accuracy: 0.4524 - val_loss: 1.4326 - val_categorical_accuracy: 0.4286 - lr: 6.2500e-05\n",
            "Epoch 14/15\n",
            "42/42 [==============================] - ETA: 0s - loss: 1.3192 - categorical_accuracy: 0.4286\n",
            "Epoch 14: saving model to model_init_2022-09-1122_01_23.945085/model-00014-1.31917-0.42857-1.33657-0.53571.h5\n",
            "42/42 [==============================] - 35s 841ms/step - loss: 1.3192 - categorical_accuracy: 0.4286 - val_loss: 1.3366 - val_categorical_accuracy: 0.5357 - lr: 6.2500e-05\n",
            "Epoch 15/15\n",
            "42/42 [==============================] - ETA: 0s - loss: 1.1824 - categorical_accuracy: 0.5635\n",
            "Epoch 15: saving model to model_init_2022-09-1122_01_23.945085/model-00015-1.18236-0.56349-1.13792-0.64286.h5\n",
            "42/42 [==============================] - 35s 854ms/step - loss: 1.1824 - categorical_accuracy: 0.5635 - val_loss: 1.1379 - val_categorical_accuracy: 0.6429 - lr: 6.2500e-05\n"
          ]
        },
        {
          "output_type": "execute_result",
          "data": {
            "text/plain": [
              "<keras.callbacks.History at 0x7fa9f002a890>"
            ]
          },
          "metadata": {},
          "execution_count": 20
        }
      ]
    },
    {
      "cell_type": "markdown",
      "source": [
        "**Conclusion (Image Size 160 X 160):** With a batch size of 16 and 15 epochs, the training accuracy (categorical_accuracy) is 0.56 and validation accuracy (val_categorical_accuracy) is 0.64"
      ],
      "metadata": {
        "id": "nTR5Sit3oee2"
      }
    },
    {
      "cell_type": "code",
      "source": [],
      "metadata": {
        "id": "S6QX8iwIoqK4"
      },
      "execution_count": null,
      "outputs": []
    }
  ],
  "metadata": {
    "kernelspec": {
      "display_name": "Python 3 (ipykernel)",
      "language": "python",
      "name": "python3"
    },
    "language_info": {
      "codemirror_mode": {
        "name": "ipython",
        "version": 3
      },
      "file_extension": ".py",
      "mimetype": "text/x-python",
      "name": "python",
      "nbconvert_exporter": "python",
      "pygments_lexer": "ipython3",
      "version": "3.8.5"
    },
    "colab": {
      "provenance": [],
      "collapsed_sections": []
    },
    "accelerator": "GPU",
    "gpuClass": "standard"
  },
  "nbformat": 4,
  "nbformat_minor": 0
}